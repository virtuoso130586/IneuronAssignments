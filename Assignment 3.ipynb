{
 "cells": [
  {
   "cell_type": "markdown",
   "metadata": {},
   "source": [
    "## Write a Python program to check if all dictionaries in a list are empty or not."
   ]
  },
  {
   "cell_type": "code",
   "execution_count": 100,
   "metadata": {},
   "outputs": [
    {
     "data": {
      "text/plain": [
       "['x', 'xx', 'xxx', 'xxxx', 'y', 'yy', 'yyy', 'yyyy', 'z', 'zz', 'zzz', 'zzzz']"
      ]
     },
     "execution_count": 100,
     "metadata": {},
     "output_type": "execute_result"
    }
   ],
   "source": [
    "##Implement List comprehensions to produce  ['x', 'xx', 'xxx', 'xxxx', 'y', 'yy', 'yyy', 'yyyy', 'z', 'zz', 'zzz', 'zzzz']\n",
    "[a*b for a in 'xyz' for b in range(1,5)]"
   ]
  },
  {
   "cell_type": "code",
   "execution_count": 113,
   "metadata": {},
   "outputs": [
    {
     "data": {
      "text/plain": [
       "['x', 'y', 'z', 'xx', 'yy', 'zz', 'xxx', 'yyy', 'zzz', 'xxxx', 'yyyy', 'zzzz']"
      ]
     },
     "execution_count": 113,
     "metadata": {},
     "output_type": "execute_result"
    }
   ],
   "source": [
    "##Implement List comprehensions to produce ['x', 'y', 'z', 'xx', 'yy', 'zz', 'xxx', 'yyy', 'zzz', 'xxxx', 'yyyy', 'zzzz']\n",
    "input_list = ['x','y','z']\n",
    "[ item*num for num in range(1,5) for item in input_list  ]"
   ]
  },
  {
   "cell_type": "code",
   "execution_count": 118,
   "metadata": {},
   "outputs": [
    {
     "data": {
      "text/plain": [
       "[[2], [3], [4], [3], [4], [5], [4], [5], [6]]"
      ]
     },
     "execution_count": 118,
     "metadata": {},
     "output_type": "execute_result"
    }
   ],
   "source": [
    "##Implement List comprehensions to produce  for[[2], [3], [4], [3], [4], [5], [4], [5], [6]] \n",
    "inputLst = [2,3,4]\n",
    "[[item+num] for item in inputLst for num in range(0,3)]"
   ]
  },
  {
   "cell_type": "code",
   "execution_count": 125,
   "metadata": {},
   "outputs": [
    {
     "data": {
      "text/plain": [
       "[[4, 5, 6, 7], [5, 6, 7, 8]]"
      ]
     },
     "execution_count": 125,
     "metadata": {},
     "output_type": "execute_result"
    }
   ],
   "source": [
    "##Implement List comprehensions to produce [[2, 3, 4, 5], [3, 4, 5, 6],\n",
    "inputlst1 = [4, 5, 6, 7]\n",
    "[[item+num  for item in inputlst1]for num in range(0,2) ]"
   ]
  },
  {
   "cell_type": "code",
   "execution_count": 130,
   "metadata": {},
   "outputs": [
    {
     "data": {
      "text/plain": [
       "[(1, 1), (2, 1), (3, 1), (1, 2), (2, 2), (3, 2), (1, 3), (2, 3), (3, 3)]"
      ]
     },
     "execution_count": 130,
     "metadata": {},
     "output_type": "execute_result"
    }
   ],
   "source": [
    "##Implement List comprehensions to produce [(1, 1), (2, 1), (3, 1), (1, 2), (2, 2), (3, 2), (1, 3), (2, 3), (3, 3)]\n",
    "inputlst2 = [1,2,3]\n",
    "[(num,item) for item in inputlst2 for num in range(1,4)]"
   ]
  },
  {
   "cell_type": "code",
   "execution_count": 17,
   "metadata": {},
   "outputs": [
    {
     "name": "stdout",
     "output_type": "stream",
     "text": [
      "22\n"
     ]
    }
   ],
   "source": [
    "##Write a Python Program to implement your own myreduce() function which works exactly\n",
    "##like Python's built-in function reduce()\n",
    "## writing few of the operations \n",
    "def myReduce(operation,lst):\n",
    "    output = 0\n",
    "    a = lst[0]\n",
    "    for i in range(1,len(lst)):\n",
    "        if operation=='ADD':            \n",
    "            a = add(a,lst[i])\n",
    "        elif operation=='MULTIPLY':\n",
    "            a = multiply(a,lst[i])\n",
    "        elif operation=='DIVISION':\n",
    "            a = division(a,lst[i])\n",
    "        elif operation=='SUBTRACTION':\n",
    "            a = subtration(a,lst[i])\n",
    "    return a\n",
    "def add(a,b):\n",
    "    return a+b\n",
    "def multiply(a,b):\n",
    "    return a*b\n",
    "def division(a,b):\n",
    "    return a/b\n",
    "def subtration(a,b):\n",
    "    return a-b\n",
    "\n",
    "\n",
    "print(myReduce('ADD',[2,4,7,9]))\n",
    "    "
   ]
  },
  {
   "cell_type": "code",
   "execution_count": 9,
   "metadata": {},
   "outputs": [],
   "source": [
    "##Write a Python program to implement your own myfilter() function which works exactly\n",
    "##like Python's built-in function filter()\n",
    "##Some of the Operations for filtering the data\n",
    "def myFilter(expression,lst):\n",
    "    lst1 = []\n",
    "    for i in lst:        \n",
    "        if expression=='isEven':\n",
    "            if isEven(i):\n",
    "                lst1.append(i)\n",
    "        elif expression=='isOdd':\n",
    "            if isOdd(i):\n",
    "                lst1.append(i)\n",
    "    return lst1\n",
    "\n",
    "def isEven(i):\n",
    "    if i%2==0:\n",
    "        return True\n",
    "    else:\n",
    "        return False\n",
    "def isOdd(i):\n",
    "    if i%2!=0:\n",
    "        return True\n",
    "    else:\n",
    "        return False\n"
   ]
  },
  {
   "cell_type": "code",
   "execution_count": 10,
   "metadata": {},
   "outputs": [
    {
     "name": "stdout",
     "output_type": "stream",
     "text": [
      "[2, 4, 6, 8]\n"
     ]
    }
   ],
   "source": [
    "print(myFilter('isEven',[1,2,3,4,5,6,7,8,9]))"
   ]
  },
  {
   "cell_type": "code",
   "execution_count": 11,
   "metadata": {},
   "outputs": [
    {
     "name": "stdout",
     "output_type": "stream",
     "text": [
      "[1, 3, 5, 7, 9]\n"
     ]
    }
   ],
   "source": [
    "print(myFilter('isOdd',[1,2,3,4,5,6,7,8,9]))"
   ]
  },
  {
   "cell_type": "code",
   "execution_count": null,
   "metadata": {},
   "outputs": [],
   "source": []
  }
 ],
 "metadata": {
  "kernelspec": {
   "display_name": "Python 3",
   "language": "python",
   "name": "python3"
  },
  "language_info": {
   "codemirror_mode": {
    "name": "ipython",
    "version": 3
   },
   "file_extension": ".py",
   "mimetype": "text/x-python",
   "name": "python",
   "nbconvert_exporter": "python",
   "pygments_lexer": "ipython3",
   "version": "3.8.5"
  }
 },
 "nbformat": 4,
 "nbformat_minor": 4
}

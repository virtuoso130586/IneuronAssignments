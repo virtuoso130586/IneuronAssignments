{
 "cells": [
  {
   "cell_type": "code",
   "execution_count": 14,
   "metadata": {
    "scrolled": true
   },
   "outputs": [
    {
     "name": "stdout",
     "output_type": "stream",
     "text": [
      "Enter the side a = 11\n",
      "Enter the side b = 12\n",
      "Enter the side c = 13\n",
      "Area of the Triangle formed by the 3 Sides(a,b,c)= 61.48170459575759\n"
     ]
    }
   ],
   "source": [
    "#Write a Python Program(with class concepts) to find the area of the triangle using the below\n",
    "#formula.\n",
    "#area = (s*(s-a)*(s-b)*(s-c)) ** 0.5\n",
    "#Function to take the length of the sides of triangle from user should be defined in the parent class\n",
    "# and function to calculate the area should be defined in subclass.\n",
    "class Sides:\n",
    "    def __init__(self):\n",
    "        self.a  = int(input(\"Enter the side a = \"))\n",
    "        self.b  = int(input(\"Enter the side b = \"))\n",
    "        self.c  = int(input(\"Enter the side c = \"))  \n",
    "        \n",
    "        \n",
    "class Triangle(Sides):\n",
    "    def __init__(self,*args):\n",
    "        super().__init__(*args)        \n",
    "        \n",
    "    def getArea(self):\n",
    "        s = (self.a+self.b+self.c)/2\n",
    "        area = (s*(s-self.a)*(s-self.b)*(s-self.c))**0.5\n",
    "        print(\"Area of the Triangle formed by the 3 Sides(a,b,c)=\",area)\n",
    "                \n",
    "triangle = Triangle() \n",
    "triangle.getArea()"
   ]
  },
  {
   "cell_type": "code",
   "execution_count": 27,
   "metadata": {},
   "outputs": [],
   "source": [
    "##Write a function filter_long_words() that takes a list of words and an integer n and returns\n",
    "##the list of words that are longer than n.\n",
    "\n",
    "def filter_long_words(lst,n):\n",
    "    print(list(filter(lambda x:len(x)>n,lst)))\n",
    "    "
   ]
  },
  {
   "cell_type": "code",
   "execution_count": 29,
   "metadata": {},
   "outputs": [
    {
     "name": "stdout",
     "output_type": "stream",
     "text": [
      "['jsonBond', 'Zonathan', 'Jhon']\n"
     ]
    }
   ],
   "source": [
    "filter_long_words(['jsonBond','Zonathan','BOB','Jhon'],3)"
   ]
  },
  {
   "cell_type": "code",
   "execution_count": 30,
   "metadata": {},
   "outputs": [],
   "source": [
    "#Write a Python program using function concept that maps list of words into a list of integers\n",
    "#representing the lengths of the corresponding words\n",
    "\n",
    "def get_Word_Length(lst):\n",
    "    print(list(map(lambda x:len(x),lst)))"
   ]
  },
  {
   "cell_type": "code",
   "execution_count": 31,
   "metadata": {},
   "outputs": [
    {
     "name": "stdout",
     "output_type": "stream",
     "text": [
      "[8, 8, 3, 4]\n"
     ]
    }
   ],
   "source": [
    "get_Word_Length(['jsonBond','Zonathan','BOB','Jhon'])"
   ]
  },
  {
   "cell_type": "code",
   "execution_count": 40,
   "metadata": {},
   "outputs": [],
   "source": [
    "#Write a Python function which takes a character (i.e. a string of length 1) and returns True if\n",
    "#it is a vowel, False otherwise\n",
    "def findIfEnteredCharacterIsVowel():\n",
    "    char = input(\"Please enter the character = \")\n",
    "    vowels = 'aeiou'\n",
    "    if char in vowels:\n",
    "        print (\"A vowel - \",char)\n",
    "    else:\n",
    "        if len(char)>1:\n",
    "            print(\"A String is entered - \",char)\n",
    "        else:\n",
    "            print(\"A consonent - \",char)\n",
    "        \n",
    "            \n",
    "        "
   ]
  },
  {
   "cell_type": "code",
   "execution_count": 41,
   "metadata": {},
   "outputs": [
    {
     "name": "stdout",
     "output_type": "stream",
     "text": [
      "Please enter the character = e\n",
      "A vowel -  e\n"
     ]
    }
   ],
   "source": [
    "findIfEnteredCharacterIsVowel()"
   ]
  },
  {
   "cell_type": "code",
   "execution_count": null,
   "metadata": {},
   "outputs": [],
   "source": []
  }
 ],
 "metadata": {
  "kernelspec": {
   "display_name": "Python 3",
   "language": "python",
   "name": "python3"
  },
  "language_info": {
   "codemirror_mode": {
    "name": "ipython",
    "version": 3
   },
   "file_extension": ".py",
   "mimetype": "text/x-python",
   "name": "python",
   "nbconvert_exporter": "python",
   "pygments_lexer": "ipython3",
   "version": "3.8.5"
  }
 },
 "nbformat": 4,
 "nbformat_minor": 4
}

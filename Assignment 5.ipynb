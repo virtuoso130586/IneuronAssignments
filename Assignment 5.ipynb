{
 "cells": [
  {
   "cell_type": "code",
   "execution_count": 5,
   "metadata": {
    "scrolled": true
   },
   "outputs": [
    {
     "name": "stdout",
     "output_type": "stream",
     "text": [
      "Enter numirator Value = gfcgv\n",
      "Please enter integer values\n",
      "Enter numirator Value = 5\n",
      "Enter denominator Value = 0\n",
      "Denominator can not be 0\n",
      "Enter numirator Value = 7\n",
      "Enter denominator Value = 9\n",
      "Division = 0.7777777777777778\n"
     ]
    }
   ],
   "source": [
    "#Write a function to compute 5/0 and use try/except to catch the exceptions.\n",
    "\n",
    "def myDivision():\n",
    "    while True:\n",
    "        try:\n",
    "             num = int(input(\"Enter numirator Value = \"))\n",
    "             den = int(input(\"Enter denominator Value = \"))\n",
    "             dev = num/den\n",
    "        except(ZeroDivisionError):\n",
    "            print(\"Denominator can not be 0\")\n",
    "        except(ValueError):\n",
    "            print(\"Please enter integer values\")\n",
    "        else:\n",
    "            print(\"Division =\",dev)\n",
    "            break\n",
    "myDivision()        "
   ]
  },
  {
   "cell_type": "code",
   "execution_count": 14,
   "metadata": {},
   "outputs": [
    {
     "data": {
      "text/plain": [
       "['Americans Play Baseball',\n",
       " 'Americans Play cricket',\n",
       " 'Americans watch Baseball',\n",
       " 'Americans watch cricket',\n",
       " 'Indians Play Baseball',\n",
       " 'Indians Play cricket',\n",
       " 'Indians watch Baseball',\n",
       " 'Indians watch cricket']"
      ]
     },
     "execution_count": 14,
     "metadata": {},
     "output_type": "execute_result"
    }
   ],
   "source": [
    "#Implement a Python program to generate all sentences where subject is in\n",
    "#[\"Americans\", \"Indians\"] and verb is in [\"Play\", \"watch\"] and the object is in\n",
    "#[\"Baseball\",\"cricket\"]\n",
    "\n",
    "[(subject+' '+verb+' '+object1) for subject in [\"Americans\", \"Indians\"] for verb in [\"Play\", \"watch\"] for object1 in [\"Baseball\",\"cricket\"]]\n"
   ]
  },
  {
   "cell_type": "code",
   "execution_count": null,
   "metadata": {},
   "outputs": [],
   "source": []
  }
 ],
 "metadata": {
  "kernelspec": {
   "display_name": "Python 3",
   "language": "python",
   "name": "python3"
  },
  "language_info": {
   "codemirror_mode": {
    "name": "ipython",
    "version": 3
   },
   "file_extension": ".py",
   "mimetype": "text/x-python",
   "name": "python",
   "nbconvert_exporter": "python",
   "pygments_lexer": "ipython3",
   "version": "3.8.5"
  }
 },
 "nbformat": 4,
 "nbformat_minor": 4
}

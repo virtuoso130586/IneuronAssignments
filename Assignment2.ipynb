{
 "cells": [
  {
   "cell_type": "code",
   "execution_count": 1,
   "metadata": {},
   "outputs": [],
   "source": [
    "##Write a Python program to reverse a word after accepting the input from the user.\n",
    "def reverSeString():\n",
    "        inPutString = input(\"Enter the String ?\")\n",
    "        print(\"Reversed String-\",inPutString[::-1])\n",
    "\n"
   ]
  },
  {
   "cell_type": "code",
   "execution_count": 2,
   "metadata": {},
   "outputs": [
    {
     "name": "stdout",
     "output_type": "stream",
     "text": [
      "Enter the String ?Mrityunjay\n",
      "Reversed String- yajnuytirM\n"
     ]
    }
   ],
   "source": [
    "reverSeString()"
   ]
  },
  {
   "cell_type": "code",
   "execution_count": 12,
   "metadata": {},
   "outputs": [],
   "source": [
    "##Create the below pattern using nested for loop in Python.\n",
    "def designStars():\n",
    "    ##rangeInput = int(input(\"Enter Range ?\"))    \n",
    "    rows = 5    \n",
    "    for i in range(0, rows):\n",
    "        for j in range(0, i + 1):\n",
    "            print(\"*\", end=' ')\n",
    "        print(\"\\r\")\n",
    "\n",
    "    for i in range(rows, 0, -1):\n",
    "        for j in range(0, i - 1):\n",
    "            print(\"*\", end=' ')\n",
    "        print(\"\\r\")\n",
    "\n",
    "            "
   ]
  },
  {
   "cell_type": "code",
   "execution_count": 13,
   "metadata": {},
   "outputs": [
    {
     "name": "stdout",
     "output_type": "stream",
     "text": [
      "* \r\n",
      "* * \r\n",
      "* * * \r\n",
      "* * * * \r\n",
      "* * * * * \r\n",
      "* * * * \r\n",
      "* * * \r\n",
      "* * \r\n",
      "* \r\n",
      "\r\n"
     ]
    }
   ],
   "source": [
    "designStars()"
   ]
  },
  {
   "cell_type": "code",
   "execution_count": null,
   "metadata": {},
   "outputs": [],
   "source": []
  }
 ],
 "metadata": {
  "kernelspec": {
   "display_name": "Python 3",
   "language": "python",
   "name": "python3"
  },
  "language_info": {
   "codemirror_mode": {
    "name": "ipython",
    "version": 3
   },
   "file_extension": ".py",
   "mimetype": "text/x-python",
   "name": "python",
   "nbconvert_exporter": "python",
   "pygments_lexer": "ipython3",
   "version": "3.8.5"
  }
 },
 "nbformat": 4,
 "nbformat_minor": 4
}

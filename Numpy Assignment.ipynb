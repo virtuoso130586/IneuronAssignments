{
 "cells": [
  {
   "cell_type": "markdown",
   "id": "matched-planner",
   "metadata": {},
   "source": [
    "## Write a function so that the columns of the output matrix are powers of the input vector.\n",
    "The order of the powers is determined by the increasing boolean argument. Specifically, when\n",
    "increasing is False, the i-th output column is the input vector raised element-wise to the power\n",
    "of N - i - 1.\n",
    "\n",
    "HINT: Such a matrix with a geometric progression in each row is named for Alexandre-\n",
    "Theophile Vandermonde."
   ]
  },
  {
   "cell_type": "code",
   "execution_count": 53,
   "id": "married-finder",
   "metadata": {},
   "outputs": [],
   "source": [
    "import numpy as np\n"
   ]
  },
  {
   "cell_type": "code",
   "execution_count": 70,
   "id": "secure-auction",
   "metadata": {},
   "outputs": [],
   "source": [
    "def myFun(a, N, isIncreasing):\n",
    "    finalArray = []\n",
    "    if isIncreasing:\n",
    "        finalArray = np.array([x**i for x in a for i in range(N)]).reshape(len(a),N)\n",
    "    else:        \n",
    "        finalArray = np.array([x**(N-1-i) for x in a for i in range(N)]).reshape(len(a),N)\n",
    "    print(finalArray)"
   ]
  },
  {
   "cell_type": "code",
   "execution_count": 71,
   "id": "universal-exemption",
   "metadata": {},
   "outputs": [
    {
     "name": "stdout",
     "output_type": "stream",
     "text": [
      "[[  1   2   4   8]\n",
      " [  1   3   9  27]\n",
      " [  1   4  16  64]\n",
      " [  1   5  25 125]\n",
      " [  1   6  36 216]]\n"
     ]
    }
   ],
   "source": [
    "myFun([2,3,4,5,6],4,True)"
   ]
  },
  {
   "cell_type": "markdown",
   "id": "loved-projection",
   "metadata": {},
   "source": [
    "## Problem Statement 2:\n",
    "Given a sequence of n values x1, x2, ..., xn and a window size k>0, the k-th moving average of\n",
    "the given sequence is defined as follows:\n",
    "The moving average sequence has n-k+1 elements as shown below.\n",
    "The moving averages with k=4 of a ten-value sequence (n=10) is shown below\n",
    "i 1 2 3 4 5 6 7 8 9 10\n",
    "===== == == == == == == == == == ==\n",
    "Input 10 20 30 40 50 60 70 80 90 100\n",
    "y1 25 = (10+20+30+40)/4\n",
    "y2 35 = (20+30+40+50)/4\n",
    "y3 45 = (30+40+50+60)/4\n",
    "y4 55 = (40+50+60+70)/4\n",
    "y5 65 = (50+60+70+80)/4\n",
    "y6 75 = (60+70+80+90)/4\n",
    "y7 85 = (70+80+90+100)/4\n",
    "Thus, the moving average sequence has n-k+1=10-4+1=7 values.\n",
    "\n",
    "Question: Write a function to find moving average in an array over a window:\n",
    "Test it over [3, 5, 7, 2, 8, 10, 11, 65, 72, 81, 99, 100, 150] and window of 3"
   ]
  },
  {
   "cell_type": "code",
   "execution_count": 46,
   "id": "liked-durham",
   "metadata": {},
   "outputs": [],
   "source": [
    "\n",
    "def calculateAvgList(lst, N):\n",
    "    finalAvgLst=[]\n",
    "    for i in range(0,len(lst)-N):        \n",
    "        templ = list(lst[k] for k in range(i,i+N))            \n",
    "        finalAvgLst.append(round((sum(templ)/N),2))\n",
    "    print(f\"final Avg Lst---{finalAvgLst}\")\n",
    "    \n",
    "        "
   ]
  },
  {
   "cell_type": "code",
   "execution_count": 47,
   "id": "reserved-virginia",
   "metadata": {},
   "outputs": [
    {
     "name": "stdout",
     "output_type": "stream",
     "text": [
      "final Avg Lst---[5.0, 4.67, 5.67, 6.67, 9.67, 28.67, 49.33, 72.67, 84.0, 93.33]\n"
     ]
    }
   ],
   "source": [
    "calculateAvgList([3, 5, 7, 2, 8, 10, 11, 65, 72, 81, 99, 100, 150],3)"
   ]
  },
  {
   "cell_type": "code",
   "execution_count": null,
   "id": "uniform-scene",
   "metadata": {},
   "outputs": [],
   "source": []
  }
 ],
 "metadata": {
  "kernelspec": {
   "display_name": "Python 3",
   "language": "python",
   "name": "python3"
  },
  "language_info": {
   "codemirror_mode": {
    "name": "ipython",
    "version": 3
   },
   "file_extension": ".py",
   "mimetype": "text/x-python",
   "name": "python",
   "nbconvert_exporter": "python",
   "pygments_lexer": "ipython3",
   "version": "3.8.5"
  }
 },
 "nbformat": 4,
 "nbformat_minor": 5
}
